{
  "nbformat": 4,
  "nbformat_minor": 0,
  "metadata": {
    "colab": {
      "provenance": []
    },
    "kernelspec": {
      "name": "python3",
      "display_name": "Python 3"
    },
    "language_info": {
      "name": "python"
    }
  },
  "cells": [
    {
      "cell_type": "markdown",
      "source": [
        "Resume Scanner using NLP By CHANDAN KUMAR CHAUHAN"
      ],
      "metadata": {
        "id": "MjmlmTGSwNp5"
      }
    },
    {
      "cell_type": "code",
      "execution_count": null,
      "metadata": {
        "colab": {
          "base_uri": "https://localhost:8080/"
        },
        "id": "j4A0KhTXsczh",
        "outputId": "1376ad08-92cf-4f37-cdf2-24e437d9ec5f"
      },
      "outputs": [
        {
          "output_type": "stream",
          "name": "stdout",
          "text": [
            "Looking in indexes: https://pypi.org/simple, https://us-python.pkg.dev/colab-wheels/public/simple/\n",
            "Requirement already satisfied: docx2txt in /usr/local/lib/python3.7/dist-packages (0.8)\n"
          ]
        }
      ],
      "source": [
        "!pip install docx2txt\n"
      ]
    },
    {
      "cell_type": "code",
      "source": [
        "import docx2txt"
      ],
      "metadata": {
        "id": "DoXo9WfCs_Jy"
      },
      "execution_count": null,
      "outputs": []
    },
    {
      "cell_type": "code",
      "source": [
        "job_description=docx2txt.process('/content/Resume (1).docx')"
      ],
      "metadata": {
        "id": "6BdKkLQhtZI9"
      },
      "execution_count": null,
      "outputs": []
    },
    {
      "cell_type": "code",
      "source": [
        "resume = docx2txt.process ('/content/Resume (1).docx')"
      ],
      "metadata": {
        "id": "mljp1SiGtkkr"
      },
      "execution_count": null,
      "outputs": []
    },
    {
      "cell_type": "code",
      "source": [
        "print(resume)"
      ],
      "metadata": {
        "colab": {
          "base_uri": "https://localhost:8080/"
        },
        "id": "0oZpApdGuGPG",
        "outputId": "070ccfb9-c439-4c40-8c67-db30b9c05690"
      },
      "execution_count": null,
      "outputs": [
        {
          "output_type": "stream",
          "name": "stdout",
          "text": [
            "CHANDAN KUMAR CHAUHAN\n",
            "\n",
            "\n",
            "\n",
            "GREATER NOIDA\n",
            "\n",
            "INDIA 201310\n",
            "\n",
            "7052128809\n",
            "\n",
            "ck439105@gmail.com\n",
            "\n",
            "EDUCATION\n",
            "\n",
            "HIGH SCHOOL\n",
            "\n",
            "RAGUKUL ACADEMY \n",
            "\n",
            "2017\n",
            "\n",
            "PERCENTAGE OBTAINED :-87.4%\n",
            "\n",
            "\n",
            "\n",
            "SENIOR SECONDARY\n",
            "\n",
            "TN JANTA IC BANKATA\n",
            "\n",
            "2019\n",
            "\n",
            "PERCENTAGE OBTAINED:-76.4%\n",
            "\n",
            "\n",
            "\n",
            "DEGREE  (BTECH)\n",
            "\n",
            "IEC COLLEGE OF ENGINEERING AND TECHNOLOGY\n",
            "\n",
            "GREATER NOIDA\n",
            "\n",
            "2019-23\n",
            "\n",
            "PERCENTAGE OBTAINED:-72%\n",
            "\n",
            "\n",
            "\n",
            "\n",
            "\n",
            "\n",
            "\n",
            "INTERNSHIPS\n",
            "\n",
            "\n",
            "\n",
            "THE SPARKS FOUNDATION\n",
            "\n",
            "WEB DEVELOPMENT\n",
            "\n",
            "2021\n",
            "\n",
            "\n",
            "\n",
            "There was a project about Basic Banking System in which I had to develop a website in which 10 users can send and receive money \n",
            "\n",
            "and can see their transaction history in the history section. I built this project by using Html ,CSS ,JS and bootstrap.\n",
            "\n",
            "\n",
            "\n",
            "TALENTSERV\n",
            "\n",
            "BUSINESS DEVELOPMENT\n",
            "\n",
            "2022\n",
            "\n",
            "\n",
            "\n",
            "I am an intern at Talentserv have to led project on Business Development and General management in which I  have to maintain data of clients. \n",
            "\n",
            "\n",
            "\n",
            "\n",
            "\n",
            "\n",
            "\n",
            "\n",
            "\n",
            "\n",
            "\n",
            "\n",
            "\n",
            "\n",
            "\n",
            "\n",
            "\n",
            "SKILLS\n",
            "\n",
            "\n",
            "\n",
            "JAVA \n",
            "\n",
            "PYTHON\n",
            "\n",
            "NODEJS\n",
            "\n",
            "MYSQL\n",
            "\n",
            "\n",
            "\n",
            "PROJECTS\n",
            "\n",
            "https://ubiweb-c.000webhostapp.com/\n",
            "\n",
            "ACHIEVEMENTS \n",
            "\n",
            "\n",
            "\n",
            "\n",
            "\n",
            "UP SCHOLARSHIPS\n",
            "\n",
            "TECH QUIZ 1ST POSITION\n",
            "\n",
            "LANGUAGES\n",
            "\n",
            "HINDI\n",
            "\n",
            "ENGLISH\n"
          ]
        }
      ]
    },
    {
      "cell_type": "code",
      "source": [
        "content = [job_description,resume]"
      ],
      "metadata": {
        "id": "wt_y7h_Qup6Y"
      },
      "execution_count": null,
      "outputs": []
    },
    {
      "cell_type": "code",
      "source": [
        "from sklearn.feature_extraction.text import CountVectorizer\n",
        "cv = CountVectorizer()\n",
        "matrix = cv.fit_transform(content)"
      ],
      "metadata": {
        "id": "w9BkBUQVuz9B"
      },
      "execution_count": null,
      "outputs": []
    },
    {
      "cell_type": "code",
      "source": [
        "from sklearn.metrics.pairwise import cosine_similarity\n",
        "similarity_matrix = cosine_similarity(matrix)\n",
        "print(similarity_matrix)"
      ],
      "metadata": {
        "colab": {
          "base_uri": "https://localhost:8080/"
        },
        "id": "dkQ2FGl9vNaR",
        "outputId": "6886781b-8bda-402a-c868-7f6a4ba1aace"
      },
      "execution_count": null,
      "outputs": [
        {
          "output_type": "stream",
          "name": "stdout",
          "text": [
            "[[1. 1.]\n",
            " [1. 1.]]\n"
          ]
        }
      ]
    },
    {
      "cell_type": "code",
      "source": [
        "print('Resume matches By:' + str(similarity_matrix[1][0]*100))"
      ],
      "metadata": {
        "colab": {
          "base_uri": "https://localhost:8080/"
        },
        "id": "IHCypxF7vr8Q",
        "outputId": "06c181b5-1bd1-4eca-c8db-cc01104e1701"
      },
      "execution_count": null,
      "outputs": [
        {
          "output_type": "stream",
          "name": "stdout",
          "text": [
            "Resume matches By:99.99999999999989\n"
          ]
        }
      ]
    }
  ]
}